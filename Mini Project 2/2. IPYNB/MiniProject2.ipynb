{
  "nbformat": 4,
  "nbformat_minor": 0,
  "metadata": {
    "colab": {
      "provenance": []
    },
    "kernelspec": {
      "name": "python3",
      "display_name": "Python 3"
    },
    "language_info": {
      "name": "python"
    }
  },
  "cells": [
    {
      "cell_type": "markdown",
      "source": [
        "**Import Libraries**"
      ],
      "metadata": {
        "id": "MCyJnhe72ec-"
      }
    },
    {
      "cell_type": "code",
      "execution_count": 1,
      "metadata": {
        "id": "DOwLD-MvLAl9"
      },
      "outputs": [],
      "source": [
        "import pandas as pd\n",
        "import numpy as np\n",
        "import matplotlib.pyplot as plt\n",
        "import seaborn as sns\n",
        "from sklearn.preprocessing import StandardScaler\n",
        "from sklearn.model_selection import train_test_split\n",
        "from sklearn.neural_network import MLPClassifier\n",
        "from sklearn.ensemble import RandomForestClassifier\n",
        "import xgboost as xgb\n",
        "from sklearn.metrics import accuracy_score, confusion_matrix"
      ]
    },
    {
      "cell_type": "markdown",
      "source": [
        "**Connecting dataset**"
      ],
      "metadata": {
        "id": "flTv_7x82iTK"
      }
    },
    {
      "cell_type": "code",
      "source": [
        "!gdown \"https://drive.google.com/uc?id=17O_cLrK9HrR43yz1CdT8ZKA6_ILN206N\""
      ],
      "metadata": {
        "colab": {
          "base_uri": "https://localhost:8080/"
        },
        "id": "HUmtl6_ztDES",
        "outputId": "58c0cabb-bdc3-44af-b283-e00770ccd136"
      },
      "execution_count": 2,
      "outputs": [
        {
          "output_type": "stream",
          "name": "stdout",
          "text": [
            "Downloading...\n",
            "From: https://drive.google.com/uc?id=17O_cLrK9HrR43yz1CdT8ZKA6_ILN206N\n",
            "To: /content/Strooptest.csv\n",
            "\r  0% 0.00/458 [00:00<?, ?B/s]\r100% 458/458 [00:00<00:00, 1.36MB/s]\n"
          ]
        }
      ]
    },
    {
      "cell_type": "code",
      "source": [
        "df = pd.read_csv('Strooptest.csv')\n",
        "print(df.head())"
      ],
      "metadata": {
        "colab": {
          "base_uri": "https://localhost:8080/"
        },
        "id": "MuuLn-xQtONu",
        "outputId": "2fdb88c8-65ef-4737-cb5f-845a107033c0"
      },
      "execution_count": 3,
      "outputs": [
        {
          "output_type": "stream",
          "name": "stdout",
          "text": [
            "   Sample ID  Score (/100)  Accuracy (%)  Avg. Reaction (s) Correct Answers\n",
            "0          1            99          98.5               1.32         135/137\n",
            "1          2            99          99.3               1.25         136/137\n",
            "2          3            97          97.8               1.40         134/137\n",
            "3          4           100         100.0               1.30         137/137\n",
            "4          5            96          97.1               1.45         133/137\n"
          ]
        }
      ]
    },
    {
      "cell_type": "code",
      "source": [
        "print(df.info())"
      ],
      "metadata": {
        "colab": {
          "base_uri": "https://localhost:8080/"
        },
        "id": "sKBLPlUTtOFg",
        "outputId": "d592699e-907a-48e5-9fbb-a0dc66a54953"
      },
      "execution_count": 4,
      "outputs": [
        {
          "output_type": "stream",
          "name": "stdout",
          "text": [
            "<class 'pandas.core.frame.DataFrame'>\n",
            "RangeIndex: 16 entries, 0 to 15\n",
            "Data columns (total 5 columns):\n",
            " #   Column             Non-Null Count  Dtype  \n",
            "---  ------             --------------  -----  \n",
            " 0   Sample ID          16 non-null     int64  \n",
            " 1   Score (/100)       16 non-null     int64  \n",
            " 2   Accuracy (%)       16 non-null     float64\n",
            " 3   Avg. Reaction (s)  16 non-null     float64\n",
            " 4   Correct Answers    16 non-null     object \n",
            "dtypes: float64(2), int64(2), object(1)\n",
            "memory usage: 772.0+ bytes\n",
            "None\n"
          ]
        }
      ]
    },
    {
      "cell_type": "markdown",
      "source": [
        "**Feature Selection**"
      ],
      "metadata": {
        "id": "_9z-A8x5kWa5"
      }
    },
    {
      "cell_type": "code",
      "source": [
        "features_df = df[['Score (/100)', 'Accuracy (%)', 'Avg. Reaction (s)']]\n",
        "X_unscaled = features_df.to_numpy() # Convert to numpy array\n"
      ],
      "metadata": {
        "id": "Qqmz9cLgkWxh"
      },
      "execution_count": 5,
      "outputs": []
    },
    {
      "cell_type": "code",
      "source": [
        "scaler_nn = StandardScaler()\n",
        "X_scaled_nn = scaler_nn.fit_transform(features_df)\n"
      ],
      "metadata": {
        "id": "5QW39deKklKw"
      },
      "execution_count": 6,
      "outputs": []
    },
    {
      "cell_type": "markdown",
      "source": [
        "**Manual Labeling Function**"
      ],
      "metadata": {
        "id": "TStsuFI4kydL"
      }
    },
    {
      "cell_type": "code",
      "source": [
        "def manual_label(row):\n",
        "    score = row['Score (/100)']\n",
        "    reaction_time = row['Avg. Reaction (s)']\n",
        "    # High performance: high score AND fast reaction\n",
        "    if score >= 99 and reaction_time < 1.3:\n",
        "        return 2  # 'High Performance'\n",
        "    # Low performance: low score OR slow reaction\n",
        "    elif score <= 97 or reaction_time > 1.4:\n",
        "        return 0  # 'Low Performance'\n",
        "    # Everything else is average\n",
        "    else:\n",
        "        return 1  # 'Average Performance'"
      ],
      "metadata": {
        "id": "kF_1zVQxtN8J"
      },
      "execution_count": 7,
      "outputs": []
    },
    {
      "cell_type": "code",
      "source": [
        "print(\"--- DataFrame Information ---\")\n",
        "print(df.info())\n",
        "print(\"\\n--- Descriptive Statistics ---\")\n",
        "print(df.describe())"
      ],
      "metadata": {
        "colab": {
          "base_uri": "https://localhost:8080/"
        },
        "id": "_4le6mxGzCc-",
        "outputId": "7ad6c4dc-47e2-454f-e6cf-c4d52b925790"
      },
      "execution_count": 19,
      "outputs": [
        {
          "output_type": "stream",
          "name": "stdout",
          "text": [
            "--- DataFrame Information ---\n",
            "<class 'pandas.core.frame.DataFrame'>\n",
            "RangeIndex: 16 entries, 0 to 15\n",
            "Data columns (total 6 columns):\n",
            " #   Column                Non-Null Count  Dtype  \n",
            "---  ------                --------------  -----  \n",
            " 0   Sample ID             16 non-null     int64  \n",
            " 1   Score (/100)          16 non-null     int64  \n",
            " 2   Accuracy (%)          16 non-null     float64\n",
            " 3   Avg. Reaction (s)     16 non-null     float64\n",
            " 4   Correct Answers       16 non-null     object \n",
            " 5   Performance_Category  16 non-null     int64  \n",
            "dtypes: float64(2), int64(3), object(1)\n",
            "memory usage: 900.0+ bytes\n",
            "None\n",
            "\n",
            "--- Descriptive Statistics ---\n",
            "       Sample ID  Score (/100)  Accuracy (%)  Avg. Reaction (s)  \\\n",
            "count  16.000000     16.000000     16.000000          16.000000   \n",
            "mean    8.500000     98.250000     98.675000           1.335000   \n",
            "std     4.760952      1.183216      0.861394           0.061536   \n",
            "min     1.000000     96.000000     97.100000           1.250000   \n",
            "25%     4.750000     97.000000     97.800000           1.287500   \n",
            "50%     8.500000     98.500000     98.500000           1.325000   \n",
            "75%    12.250000     99.000000     99.300000           1.385000   \n",
            "max    16.000000    100.000000    100.000000           1.450000   \n",
            "\n",
            "       Performance_Category  \n",
            "count             16.000000  \n",
            "mean               1.000000  \n",
            "std                0.816497  \n",
            "min                0.000000  \n",
            "25%                0.000000  \n",
            "50%                1.000000  \n",
            "75%                2.000000  \n",
            "max                2.000000  \n"
          ]
        }
      ]
    },
    {
      "cell_type": "code",
      "source": [
        "df['Performance_Category'] = df.apply(manual_label, axis=1)\n",
        "y = df['Performance_Category']\n",
        "print(\"Distribution of manually created labels:\")\n",
        "print(y.value_counts())\n",
        "print(\"\\nDataFrame with Manual Labels:\")\n",
        "print(df.head())"
      ],
      "metadata": {
        "colab": {
          "base_uri": "https://localhost:8080/"
        },
        "id": "aA-Dcv2mokK1",
        "outputId": "b43f6d31-814e-4f83-d785-6ca1f5e06807"
      },
      "execution_count": 8,
      "outputs": [
        {
          "output_type": "stream",
          "name": "stdout",
          "text": [
            "Distribution of manually created labels:\n",
            "Performance_Category\n",
            "1    6\n",
            "2    5\n",
            "0    5\n",
            "Name: count, dtype: int64\n",
            "\n",
            "DataFrame with Manual Labels:\n",
            "   Sample ID  Score (/100)  Accuracy (%)  Avg. Reaction (s) Correct Answers  \\\n",
            "0          1            99          98.5               1.32         135/137   \n",
            "1          2            99          99.3               1.25         136/137   \n",
            "2          3            97          97.8               1.40         134/137   \n",
            "3          4           100         100.0               1.30         137/137   \n",
            "4          5            96          97.1               1.45         133/137   \n",
            "\n",
            "   Performance_Category  \n",
            "0                     1  \n",
            "1                     2  \n",
            "2                     0  \n",
            "3                     1  \n",
            "4                     0  \n"
          ]
        }
      ]
    },
    {
      "cell_type": "code",
      "source": [
        "X_features = df[['Score (/100)', 'Accuracy (%)', 'Avg. Reaction (s)']]\n",
        "y_target = df['Performance_Category']"
      ],
      "metadata": {
        "id": "T9_UcWdztN4J"
      },
      "execution_count": 9,
      "outputs": []
    },
    {
      "cell_type": "code",
      "source": [
        "print(\"Manual Labeling Results\")\n",
        "print(df[['Score (/100)', 'Avg. Reaction (s)', 'Performance_Category']].head())\n",
        "print(\"\\nDistribution of new labels:\")\n",
        "print(y_target.value_counts())\n",
        "print(\"\\n\")"
      ],
      "metadata": {
        "colab": {
          "base_uri": "https://localhost:8080/"
        },
        "id": "fLMDcIbjtNqS",
        "outputId": "5ca87dcd-f03c-4080-f99d-738c0a190d41"
      },
      "execution_count": 10,
      "outputs": [
        {
          "output_type": "stream",
          "name": "stdout",
          "text": [
            "Manual Labeling Results\n",
            "   Score (/100)  Avg. Reaction (s)  Performance_Category\n",
            "0            99               1.32                     1\n",
            "1            99               1.25                     2\n",
            "2            97               1.40                     0\n",
            "3           100               1.30                     1\n",
            "4            96               1.45                     0\n",
            "\n",
            "Distribution of new labels:\n",
            "Performance_Category\n",
            "1    6\n",
            "2    5\n",
            "0    5\n",
            "Name: count, dtype: int64\n",
            "\n",
            "\n"
          ]
        }
      ]
    },
    {
      "cell_type": "markdown",
      "source": [
        "Data Splitting 70% training and 30% testing"
      ],
      "metadata": {
        "id": "A_e3VKs9HDF3"
      }
    },
    {
      "cell_type": "code",
      "source": [
        "X_unscaled = X_features.to_numpy()\n",
        "X_train_tree, X_test_tree, y_train, y_test = train_test_split(\n",
        "    X_unscaled, y_target, test_size=0.3, random_state=42, stratify=y_target\n",
        ")"
      ],
      "metadata": {
        "id": "lH_PD5ZNzF7w"
      },
      "execution_count": 11,
      "outputs": []
    },
    {
      "cell_type": "code",
      "source": [
        "scaler_nn = StandardScaler()\n",
        "X_scaled_nn = scaler_nn.fit_transform(X_features)\n",
        "X_train_nn, X_test_nn, _, _ = train_test_split(\n",
        "    X_scaled_nn, y_target, test_size=0.3, random_state=42, stratify=y_target\n",
        ")"
      ],
      "metadata": {
        "id": "VgO5H6GH05I-"
      },
      "execution_count": 12,
      "outputs": []
    },
    {
      "cell_type": "markdown",
      "source": [
        "Neural Network (MLP)"
      ],
      "metadata": {
        "id": "lyAEwSRoOdAP"
      }
    },
    {
      "cell_type": "code",
      "source": [
        "nn_model = MLPClassifier(hidden_layer_sizes=(10, 5), max_iter=500, random_state=42)\n",
        "nn_model.fit(X_train_nn, y_train)\n",
        "y_pred_nn = nn_model.predict(X_test_nn)\n",
        "accuracy_nn = accuracy_score(y_test, y_pred_nn)\n",
        "print(f\"Neural Network Model Accuracy: {accuracy_nn * 100:.2f}%\")\n"
      ],
      "metadata": {
        "colab": {
          "base_uri": "https://localhost:8080/"
        },
        "id": "4nnUKEy6zrJe",
        "outputId": "336b79b8-9185-49f4-c471-27825b33f356"
      },
      "execution_count": 13,
      "outputs": [
        {
          "output_type": "stream",
          "name": "stdout",
          "text": [
            "Neural Network Model Accuracy: 80.00%\n"
          ]
        },
        {
          "output_type": "stream",
          "name": "stderr",
          "text": [
            "/usr/local/lib/python3.11/dist-packages/sklearn/neural_network/_multilayer_perceptron.py:691: ConvergenceWarning: Stochastic Optimizer: Maximum iterations (500) reached and the optimization hasn't converged yet.\n",
            "  warnings.warn(\n"
          ]
        }
      ]
    },
    {
      "cell_type": "code",
      "source": [
        "cm_nn = confusion_matrix(y_test, y_pred_nn)\n",
        "plt.figure(figsize=(8, 6))\n",
        "sns.heatmap(cm_nn, annot=True, fmt='d', cmap='Reds', xticklabels=np.unique(y_target), yticklabels=np.unique(y_target))\n",
        "plt.title('Neural Network Confusion Matrix')\n",
        "plt.ylabel('Actual Label')\n",
        "plt.xlabel('Predicted Label')\n",
        "plt.show()"
      ],
      "metadata": {
        "colab": {
          "base_uri": "https://localhost:8080/",
          "height": 564
        },
        "id": "NJB8ggnn08J0",
        "outputId": "aab39f5a-6337-42e9-e3f6-4ee16629a094"
      },
      "execution_count": 14,
      "outputs": [
        {
          "output_type": "display_data",
          "data": {
            "text/plain": [
              "<Figure size 800x600 with 2 Axes>"
            ],
            "image/png": "[encoded data removed]"
          },
          "metadata": {}
        }
      ]
    },
    {
      "cell_type": "markdown",
      "source": [
        "Random Forest"
      ],
      "metadata": {
        "id": "KBVtji6zQfR5"
      }
    },
    {
      "cell_type": "code",
      "source": [
        "rf_model = RandomForestClassifier(n_estimators=100, random_state=42)\n",
        "rf_model.fit(X_train_tree, y_train)\n",
        "y_pred_rf = rf_model.predict(X_test_tree)\n",
        "accuracy_rf = accuracy_score(y_test, y_pred_rf)\n",
        "print(f\"Random Forest Model Accuracy: {accuracy_rf * 100:.2f}%\")\n"
      ],
      "metadata": {
        "colab": {
          "base_uri": "https://localhost:8080/"
        },
        "id": "DbRh-qFT1N4W",
        "outputId": "ebc5511c-4cb7-4b4c-cc7f-19ae81006b03"
      },
      "execution_count": 15,
      "outputs": [
        {
          "output_type": "stream",
          "name": "stdout",
          "text": [
            "Random Forest Model Accuracy: 80.00%\n"
          ]
        }
      ]
    },
    {
      "cell_type": "code",
      "source": [
        "cm_rf = confusion_matrix(y_test, y_pred_rf)\n",
        "plt.figure(figsize=(8, 6))\n",
        "sns.heatmap(cm_rf, annot=True, fmt='d', cmap='Purples', xticklabels=np.unique(y_target), yticklabels=np.unique(y_target))\n",
        "plt.title('Random Forest Confusion Matrix')\n",
        "plt.ylabel('Actual Label')\n",
        "plt.xlabel('Predicted Label')\n",
        "plt.show()"
      ],
      "metadata": {
        "colab": {
          "base_uri": "https://localhost:8080/",
          "height": 564
        },
        "id": "fLKbjH5d1N13",
        "outputId": "1fb9de2b-8a1a-4e2f-b829-ec73558fab53"
      },
      "execution_count": 16,
      "outputs": [
        {
          "output_type": "display_data",
          "data": {
            "text/plain": [
              "<Figure size 800x600 with 2 Axes>"
            ],
            "image/png": "[encoded data removed]"
          },
          "metadata": {}
        }
      ]
    },
    {
      "cell_type": "markdown",
      "source": [
        "XGBoost"
      ],
      "metadata": {
        "id": "nhrIvx5HbvsD"
      }
    },
    {
      "cell_type": "code",
      "source": [
        "xgb_model = xgb.XGBClassifier(objective='multi:softmax', num_class=3, use_label_encoder=False, eval_metric='mlogloss', random_state=42)\n",
        "xgb_model.fit(X_train_tree, y_train)\n",
        "y_pred_xgb = xgb_model.predict(X_test_tree)\n",
        "accuracy_xgb = accuracy_score(y_test, y_pred_xgb)\n",
        "print(f\"XGBoost Model Accuracy: {accuracy_xgb * 100:.2f}%\")\n"
      ],
      "metadata": {
        "colab": {
          "base_uri": "https://localhost:8080/"
        },
        "id": "um1vnIhN1NxE",
        "outputId": "3ff49344-061b-42d0-adae-aeba1d1cd8a5"
      },
      "execution_count": 17,
      "outputs": [
        {
          "output_type": "stream",
          "name": "stderr",
          "text": [
            "/usr/local/lib/python3.11/dist-packages/xgboost/training.py:183: UserWarning: [06:09:04] WARNING: /workspace/src/learner.cc:738: \n",
            "Parameters: { \"use_label_encoder\" } are not used.\n",
            "\n",
            "  bst.update(dtrain, iteration=i, fobj=obj)\n"
          ]
        },
        {
          "output_type": "stream",
          "name": "stdout",
          "text": [
            "XGBoost Model Accuracy: 100.00%\n"
          ]
        }
      ]
    },
    {
      "cell_type": "code",
      "source": [
        "cm_xgb = confusion_matrix(y_test, y_pred_xgb)\n",
        "plt.figure(figsize=(8, 6))\n",
        "sns.heatmap(cm_xgb, annot=True, fmt='d', cmap='Oranges', xticklabels=np.unique(y_target), yticklabels=np.unique(y_target))\n",
        "plt.title('XGBoost Confusion Matrix')\n",
        "plt.ylabel('Actual Label')\n",
        "plt.xlabel('Predicted Label')\n",
        "plt.show()\n"
      ],
      "metadata": {
        "colab": {
          "base_uri": "https://localhost:8080/",
          "height": 564
        },
        "id": "Su9-m9tz1Omv",
        "outputId": "10b80321-72c7-4d82-8332-9e1c6701e3da"
      },
      "execution_count": 18,
      "outputs": [
        {
          "output_type": "display_data",
          "data": {
            "text/plain": [
              "<Figure size 800x600 with 2 Axes>"
            ],
            "image/png": "[encoded data removed]"
          },
          "metadata": {}
        }
      ]
    },
    {
      "cell_type": "code",
      "source": [],
      "metadata": {
        "id": "urk1h-ta1Oiw"
      },
      "execution_count": 18,
      "outputs": []
    },
    {
      "cell_type": "code",
      "source": [],
      "metadata": {
        "id": "Dv1GE4-r1Oat"
      },
      "execution_count": 18,
      "outputs": []
    }
  ]
}
